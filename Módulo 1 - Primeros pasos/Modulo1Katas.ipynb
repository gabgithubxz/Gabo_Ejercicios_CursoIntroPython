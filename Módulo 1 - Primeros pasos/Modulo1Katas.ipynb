{
  "cells": [
    {
      "cell_type": "markdown",
      "metadata": {},
      "source": [
        "Oficial superior> \"¿Cadete?\"\n",
        "\n",
        "Usted > \"¿Sí, señora?\"\n",
        "\n",
        "Oficial superior> \"¿Puedes construir un programa que me muestre la fecha? La computadora del barco no venía con mucho en términos de programas de utilidad, por lo que necesitamos crear los que necesitamos. ¿Puedo confiar en ti con esto?\"\n",
        "\n",
        "Usted > \"Considéralo hecho\".\n",
        "\n",
        "Oficial superior> \"Excelente\".\n",
        "\n",
        "## Tu primer programa\n",
        "\n",
        "Para crear este programa, deberás utilizar los conceptos que aprendiste en el último módulo. Usarás Jupyter Notebook en este ejercicio, que es una combinación de texto y código con la que puede interactuar. Finaliza el código siguiente para que el resultado muestre la fecha de hoy."
      ]
    },
    {
      "cell_type": "code",
      "execution_count": 3,
      "metadata": {},
      "outputs": [
        {
          "name": "stdout",
          "output_type": "stream",
          "text": [
            "Today's date is: 2022-02-07\n"
          ]
        }
      ],
      "source": [
        "from datetime import date\n",
        "\n",
        "print(\"Today's date is: \" + str(date.today()))"
      ]
    },
    {
      "cell_type": "markdown",
      "metadata": {},
      "source": [
        "> **TIP**\n",
        "> Dedique unos minutos a tratar de encontrar una solución. Luego desplácese hacia abajo hasta la parte inferior para ver si ha logrado compilar el programa de acuerdo con las especificaciones.\n",
        "\n",
        "## Construir un convertidor de unidades\n",
        "\n",
        "El oficial superior> \"Necesito una cosa más: un programa de conversión entre parsecs y años luz. Tener un programa de este tipo podría ser realmente útil en el puente para trazar nuestro curso\".\n",
        "\n",
        "Tú> \"¡Lo haré!\"\n"
      ]
    },
    {
      "cell_type": "markdown",
      "metadata": {},
      "source": [
        "> [!TIP]\n",
        "> 1 parsec es 3.26156 años luz. Utiliza el operador de multiplicación."
      ]
    },
    {
      "cell_type": "code",
      "execution_count": 1,
      "metadata": {},
      "outputs": [
        {
          "name": "stdout",
          "output_type": "stream",
          "text": [
            "que quieres convertir\n",
            "Presiona 1 si Parsec -> Años luz\n",
            "Presiona 2 si Años luz -> Parsec\n",
            "12 parsec, son 39.13872 lightyears\n"
          ]
        }
      ],
      "source": [
        "print(\"que quieres convertir\")\n",
        "print(\"Presiona 1 si Parsec -> Años luz\")\n",
        "print(\"Presiona 2 si Años luz -> Parsec\")\n",
        "choice = input(\"selecciona...\")\n",
        "\n",
        "if choice == '1':\n",
        "    parsec = input(\"Cuantos parsec tienes\")\n",
        "    print(str(parsec) + \" parsec, son \" + str(3.26156 * int(parsec)) + \" lightyears\")\n",
        "elif choice == '2':\n",
        "    lightyears = input(\"Cuantos años luz tienes\")\n",
        "    print(str(lightyears) + \" años luz, son \" + str(int(lightyears) / 3.26156) + \" lightyears\")\n",
        "else:\n",
        "    print(\"no elegiste una opcion valida\")"
      ]
    },
    {
      "cell_type": "markdown",
      "metadata": {},
      "source": [
        "## Soluciones\n",
        "\n",
        "Aquí está la solución para el primer programa:"
      ]
    },
    {
      "cell_type": "code",
      "execution_count": null,
      "metadata": {},
      "outputs": [],
      "source": [
        "from datetime import date\n",
        "\n",
        "print(\"Today's date is: \" + str(date.today()))"
      ]
    },
    {
      "cell_type": "code",
      "execution_count": 8,
      "metadata": {},
      "outputs": [
        {
          "name": "stdout",
          "output_type": "stream",
          "text": [
            "11 parsec, is 35.8776 lightyears\n"
          ]
        }
      ],
      "source": [
        "parsec = 11\n",
        "\n",
        "lightyears = parsec * 3.2616\n",
        "\n",
        "print(str(parsec) + \" parsec, is \" + str(lightyears) + \" lightyears\")"
      ]
    },
    {
      "cell_type": "markdown",
      "metadata": {},
      "source": [
        "Curso Propedútico de Python para Launch X - Innovacción Virtual.\n",
        "\n",
        "Material desarrollado con base en los contenidos de MSLearn y la metáfora de LaunchX, traducción e implementación por: Fernanda Ochoa - Learning Producer de LaunchX.\n",
        "\n",
        "Redes:\n",
        "* GitHub: [FernandaOchoa](https://github.com/FernandaOchoa)\n",
        "* Twitter: [@imonsh](https://twitter.com/imonsh)\n",
        "* Instagram: [fherz8a](https://www.instagram.com/fherz8a/)"
      ]
    }
  ],
  "metadata": {
    "interpreter": {
      "hash": "232d852bb963ee997e4d1fd917d3392c044f2df259143fdf60ba5eb0ccf52ba4"
    },
    "kernel_info": {
      "name": "conda-env-py37_default-py"
    },
    "kernelspec": {
      "display_name": "py37_default",
      "language": "python",
      "name": "python3"
    },
    "language_info": {
      "codemirror_mode": {
        "name": "ipython",
        "version": 3
      },
      "file_extension": ".py",
      "mimetype": "text/x-python",
      "name": "python",
      "nbconvert_exporter": "python",
      "pygments_lexer": "ipython3",
      "version": "3.9.7"
    },
    "nteract": {
      "version": "nteract-front-end@1.0.0"
    },
    "orig_nbformat": 4
  },
  "nbformat": 4,
  "nbformat_minor": 2
}
